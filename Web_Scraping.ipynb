{
  "nbformat": 4,
  "nbformat_minor": 0,
  "metadata": {
    "colab": {
      "provenance": []
    },
    "kernelspec": {
      "name": "python3",
      "display_name": "Python 3"
    },
    "language_info": {
      "name": "python"
    }
  },
  "cells": [
    {
      "cell_type": "code",
      "execution_count": 4,
      "metadata": {
        "colab": {
          "base_uri": "https://localhost:8080/"
        },
        "id": "ZM902c9Op5Bk",
        "outputId": "fb0e9567-1cfc-4477-897c-12069091e954"
      },
      "outputs": [
        {
          "output_type": "stream",
          "name": "stdout",
          "text": [
            "Title: 12 ที่พักหมาแมวพักได้ ใกล้กรุงเทพ อัปเดต 2566 พาน้องไปด้วย ชิลสุดๆ\n"
          ]
        }
      ],
      "source": [
        "import requests\n",
        "from bs4 import BeautifulSoup\n",
        "\n",
        "# Send an HTTP GET request to the URL\n",
        "url = \"https://travel.trueid.net/detail/rDvYykOdorNR\"\n",
        "response = requests.get(url)\n",
        "\n",
        "# Check if the request was successful\n",
        "if response.status_code == 200:\n",
        "    # Parse the HTML content of the page\n",
        "    soup = BeautifulSoup(response.text, 'html.parser')\n",
        "\n",
        "    # Extract information from the page by selecting HTML elements\n",
        "    # Example: Get the title of the page\n",
        "    title = soup.find('title').text\n",
        "\n",
        "    # Example: Get a specific element by class name\n",
        "    # specific_element = soup.find('div', class_='your-class-name')\n",
        "\n",
        "    # Print the results\n",
        "    print(\"Title:\", title)\n",
        "    # print(\"Specific Element:\", specific_element)\n",
        "\n",
        "else:\n",
        "    # print(\"Failed to retrieve the page. Status code:\", response.status_code)\n",
        "    print(\"Failed to retrieve the page.\")\n"
      ]
    },
    {
      "cell_type": "code",
      "source": [
        "import requests\n",
        "from bs4 import BeautifulSoup\n",
        "import urllib\n",
        "\n",
        "url = 'https://travel.trueid.net/detail/rDvYykOdorNR'\n",
        "page = urllib.request.urlopen(url)\n",
        "\n",
        "soup = BeautifulSoup(page, 'html.parser')\n",
        "\n",
        "# con = soup.find_all(\"h3\")\n",
        "# print(con.encode('utf-8'))\n",
        "\n",
        "for tags in soup.find_all('h3'):\n",
        "    print(tags.text)\n",
        "for li in soup.find_all('li'):\n",
        "    print(li.text)"
      ],
      "metadata": {
        "id": "MJZITIWlqIvo",
        "outputId": "eab82a95-f75d-434b-822b-665aa70db941",
        "colab": {
          "base_uri": "https://localhost:8080/"
        }
      },
      "execution_count": 5,
      "outputs": [
        {
          "output_type": "stream",
          "name": "stdout",
          "text": [
            "1. Bangsaen Heritage Hotel บางแสน ชลบุรี\n",
            "2. Hill Fresco Hotel Pattaya พัทยา ชลบุรี\n",
            "3. ปราณบุรี ดีไลท์ รีสอร์ท ปราณบุรี ประจวบคีรีขันธ์\n",
            "4. Anantasila Villa by the sea Hua Hin หัวหิน ประจวบคีรีขันธ์\n",
            "5. Baan Mesuk Pool Villa Spa & Resort ชะอำ เพชรบุรี\n",
            "6. Bandara On Sea Rayong ระยอง\n",
            "7. Thames Valley Khaoyai Hotel เขาใหญ่ นครราชสีมา\n",
            "8. Limon Villa Khao Yai เขาใหญ่ นครราชสีมา\n",
            "9. Thawsi Lake Hill กาญจนบุรี\n",
            "10. กอดอุ่น ริเวอร์แคว รีสอร์ท กาญจนบุรี\n",
            "11. Merito Beach Resort หาดเจ้าสำราญ เพชรบุรี\n",
            "12. Tamarina Resort บางแสน ชลบุรี\n",
            "Tag\n",
            "10 ที่เที่ยววันหยุด 2 วัน 1 คืน งบพันนิดๆ ทริปสั้นๆ เที่ยวไหนดี\n",
            "12 โรงแรมแมว กรุงเทพ ฝากแมว ก่อนไปเที่ยววันหยุดยาว ชิลได้ไม่ต้องห่วงเจ้าเหมียว!\n",
            "ที่อยู่ : ถนนบางแสน สาย 1 ตำบลแสนสุข อำเภอเมืองชลบุรี จังหวัดชลบุรี\n",
            "พิกัด : https://goo.gl/maps/wM8mkwniffjTo4q36\n",
            "โทร : 0-3839-9899\n",
            "เว็บไซต์ : https://www.facebook.com/bsheritagehotel\n",
            "ที่อยู่ : 359/109 หมู่ 12 ถนนพระตำหนัก อำเภอบางละมุง จังหวัดชลบุรี\n",
            "พิกัด : https://goo.gl/maps/9WgBfRHV8ytCjjhN9\n",
            "โทร : 08-1353-5224\n",
            "เว็บไซต์ : https://www.facebook.com/HillFrescopattaya\n",
            "ที่อยู่ : 177 หมู่ที่ 1 ตำบลสามร้อยยอด อำเภอปราณบุรี จังหวัดประจวบคีรีขันธ์\n",
            "พิกัด : https://goo.gl/maps/y9qb5Z4Yuy5xqq9X7\n",
            "โทร : 08-1171-0809\n",
            "เว็บไซต์ : https://www.facebook.com/pranburidelight\n",
            "ที่อยู่ : 9/1 ซอยบ้านสวนสน ตำบลหนองแก อำเภอหัวหิน จังหวัดประจวบคีรีขันธ์\n",
            "พิกัด : https://goo.gl/maps/VwG66H5LUQxroVTu8\n",
            "โทร : 08-1648-8364\n",
            "เว็บไซต์ : https://www.facebook.com/anantasila\n",
            "ที่อยู่ : 1500 ถนนชลประทาน ตำบลชะอำ อำเภอชะอำ จังหวัดเพชรบุรี\n",
            "พิกัด : https://goo.gl/maps/MTrQU7qHeApRhNdN7\n",
            "โทร : -\n",
            "เว็บไซต์ : https://www.facebook.com/baanmesukpoolvilla\n",
            "ที่อยู่ : 151 หมู่ 3  ตำบลชากพง อำเภอแกลง จังหวัดระยอง\n",
            "พิกัด : https://goo.gl/maps/Lyya9Q393cmwjy5F8\n",
            "โทร : 0-3864-8550\n",
            "เว็บไซต์ : https://www.facebook.com/BandaraRayong\n",
            "ที่อยู่ : 999 หมู่ 4 ตำบลหมูสี อำเภอปากช่อง จังหวัดนครราชสีมา\n",
            "พิกัด : https://goo.gl/maps/4YACth2Qd5zvSxZTA\n",
            "โทร : 0-4400-9999\n",
            "เว็บไซต์ : https://www.facebook.com/ThamesValleyKhaoyaiHotel\n",
            "ที่อยู่ : 40/1 หมู่ 4 ตำบลโป่งตาลอง อำเภอปากช่อง จังหวัดนครราชสีมา \n",
            "พิกัด : https://goo.gl/maps/36FGkX6zR6VjGBS7A\n",
            "โทร : 0-4430-0561\n",
            "เว็บไซต์ : https://www.facebook.com/limonvillakhaoyai\n",
            "ที่อยู่ : ตำบลท่ากระดาน อำเภอศรีสวัสดิ์ จังหวัดกาญจนบุรี \n",
            "พิกัด : https://goo.gl/maps/wpMRiA46t1xGMdBZ7\n",
            "โทร : 09-2927-7889\n",
            "เว็บไซต์ : https://www.facebook.com/thawsilakehill\n",
            "ที่อยู่ : 167 หมู่2​ ตำบล​วังดัง อำเภอเมืองกาญจนบุรี จังหวัดกาญจนบุรี\n",
            "พิกัด : https://goo.gl/maps/SqMaZrbG9otNvFwz5 \n",
            "โทร : 08-2755-2222\n",
            "เว็บไซต์ : https://www.facebook.com/กอดอุ่น-ริเวอร์แคว-รีสอร์ท\n",
            "ที่อยู่ : 150 หมู่ 2 ตำบลหาดเจ้าสำราญ อำเภอเมืองเพชรบุรี จังหวัดเพชรบุรี\n",
            "พิกัด : https://goo.gl/maps/yitCa2xyLDrCaMEAA\n",
            "โทร : 08-6001-3499\n",
            "เว็บไซต์ : https://www.facebook.com/เมอร์ริโต้-บีช-รีสอร์ท\n",
            "ที่อยู่ : 23/9 ซอยใบบัว ถนนบางแสน-อ่างศิลา ตำบลอ่างศิลา อำเภอเมืองชลบุรี จังหวัดชลบุรี\n",
            "พิกัด : https://goo.gl/maps/xerynftqzARMymib7\n",
            "โทร : 08-1782-9239\n",
            "เว็บไซต์ : https://www.facebook.com/Tamarina-Resort\n"
          ]
        }
      ]
    }
  ]
}